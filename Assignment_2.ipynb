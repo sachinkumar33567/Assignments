{
 "cells": [
  {
   "cell_type": "code",
   "execution_count": null,
   "id": "a69fd666",
   "metadata": {},
   "outputs": [],
   "source": [
    "Q1.What are the two values of the Boolean data type? How do you write them?"
   ]
  },
  {
   "cell_type": "code",
   "execution_count": null,
   "id": "8f1df7ba",
   "metadata": {},
   "outputs": [],
   "source": [
    "Answer -\n",
    "\n",
    "flag1 = True\n",
    "flag2 = False"
   ]
  },
  {
   "cell_type": "code",
   "execution_count": null,
   "id": "4f794ba1",
   "metadata": {},
   "outputs": [],
   "source": []
  },
  {
   "cell_type": "code",
   "execution_count": null,
   "id": "fe51485d",
   "metadata": {},
   "outputs": [],
   "source": []
  },
  {
   "cell_type": "code",
   "execution_count": null,
   "id": "c4836d37",
   "metadata": {},
   "outputs": [],
   "source": [
    "Q2. What are the three different types of Boolean operators?"
   ]
  },
  {
   "cell_type": "code",
   "execution_count": null,
   "id": "b94bcb44",
   "metadata": {},
   "outputs": [],
   "source": [
    "Answer -\n",
    "\n",
    "\n",
    "The three different types of Boolean operators are:\n",
    "\n",
    "AND: It returns results that include all of the search terms.\n",
    "OR: It returns results that include at least one of the search terms.\n",
    "NOT: It excludes results that contain a specific search term."
   ]
  },
  {
   "cell_type": "code",
   "execution_count": null,
   "id": "dee7b4ca",
   "metadata": {},
   "outputs": [],
   "source": []
  },
  {
   "cell_type": "code",
   "execution_count": null,
   "id": "b5e71123",
   "metadata": {},
   "outputs": [],
   "source": []
  },
  {
   "cell_type": "code",
   "execution_count": null,
   "id": "18d2daaf",
   "metadata": {},
   "outputs": [],
   "source": [
    "Q3. Make a list of each Boolean operators truth tables (i.e. every possible combination of Boolean values for the operator\n",
    "and what it evaluate )."
   ]
  },
  {
   "cell_type": "code",
   "execution_count": null,
   "id": "34f3a95e",
   "metadata": {},
   "outputs": [],
   "source": [
    "Answer -\n",
    "\n",
    "AND -\n",
    "1 and 1 = 1\n",
    "1 and 0 = 0\n",
    "0 and 1 = 0\n",
    "0 and 0 = 0\n",
    "\n",
    "OR -\n",
    "1 or 1 = 1\n",
    "1 or 0 = 1\n",
    "0 or 1 = 1\n",
    "0 or 0 = 0\n",
    "\n",
    "NOT -\n",
    "not 1 = 0\n",
    "not 0 = 1"
   ]
  },
  {
   "cell_type": "code",
   "execution_count": null,
   "id": "83c6bfc9",
   "metadata": {},
   "outputs": [],
   "source": []
  },
  {
   "cell_type": "code",
   "execution_count": null,
   "id": "23b18bbe",
   "metadata": {},
   "outputs": [],
   "source": []
  },
  {
   "cell_type": "code",
   "execution_count": null,
   "id": "bbf8fc40",
   "metadata": {},
   "outputs": [],
   "source": [
    "Q4. What are the values of the following expressions?\n",
    "(5 > 4) and (3 == 5)\n",
    "not (5 > 4)\n",
    "(5 > 4) or (3 == 5)\n",
    "not ((5 > 4) or (3 == 5))\n",
    "(True and True) and (True == False)\n",
    "(not False) or (not True)"
   ]
  },
  {
   "cell_type": "code",
   "execution_count": null,
   "id": "6286837d",
   "metadata": {},
   "outputs": [],
   "source": [
    "Answer -\n",
    "\n",
    "(5 > 4) and (3 == 5) = False\n",
    "\n",
    "not (5 > 4) = False\n",
    "\n",
    "(5 > 4) or (3 == 5) = True\n",
    "\n",
    "not ((5 > 4) or (3 == 5)) = False\n",
    "\n",
    "(True and True) and (True == False) = False\n",
    "\n",
    "(not False) or (not True) = True"
   ]
  },
  {
   "cell_type": "code",
   "execution_count": null,
   "id": "e3c5a781",
   "metadata": {},
   "outputs": [],
   "source": []
  },
  {
   "cell_type": "code",
   "execution_count": null,
   "id": "d528e379",
   "metadata": {},
   "outputs": [],
   "source": []
  },
  {
   "cell_type": "code",
   "execution_count": null,
   "id": "2aa8fd35",
   "metadata": {},
   "outputs": [],
   "source": [
    "Q5. What are the six comparison operators?"
   ]
  },
  {
   "cell_type": "code",
   "execution_count": null,
   "id": "f3680530",
   "metadata": {},
   "outputs": [],
   "source": [
    "Answer -\n",
    "\n",
    "Comparision operators are -\n",
    "\n",
    "==, !=, >, <, >=, <="
   ]
  },
  {
   "cell_type": "code",
   "execution_count": null,
   "id": "dc62c5c2",
   "metadata": {},
   "outputs": [],
   "source": []
  },
  {
   "cell_type": "code",
   "execution_count": null,
   "id": "09538cf6",
   "metadata": {},
   "outputs": [],
   "source": []
  },
  {
   "cell_type": "code",
   "execution_count": null,
   "id": "d7cb22fb",
   "metadata": {},
   "outputs": [],
   "source": [
    "Q6. How do you tell the difference between the equal to and assignment operators?Describe a condition and when you would use one."
   ]
  },
  {
   "cell_type": "code",
   "execution_count": null,
   "id": "07d59be3",
   "metadata": {},
   "outputs": [],
   "source": [
    "Answer -\n",
    "\n",
    "Equal to (==) is comparision operator and assignment operator is used to assign a value to a variable.\n",
    "\n",
    "if 3 == 5:\n",
    "    print('Three is eqaul to five');\n",
    "    \n",
    "x = 'Ankit Sharma'"
   ]
  },
  {
   "cell_type": "code",
   "execution_count": null,
   "id": "8966c363",
   "metadata": {},
   "outputs": [],
   "source": []
  },
  {
   "cell_type": "code",
   "execution_count": null,
   "id": "40053d8b",
   "metadata": {},
   "outputs": [],
   "source": []
  },
  {
   "cell_type": "code",
   "execution_count": null,
   "id": "a29b622c",
   "metadata": {},
   "outputs": [],
   "source": [
    "Q7. Identify the three blocks in this code:\n",
    "spam = 0\n",
    "if spam == 10:\n",
    "print('eggs')\n",
    "if spam > 5:\n",
    "print('bacon')\n",
    "else:\n",
    "print('ham')\n",
    "print('spam')\n",
    "print('spam')"
   ]
  },
  {
   "cell_type": "code",
   "execution_count": null,
   "id": "9d761034",
   "metadata": {},
   "outputs": [],
   "source": [
    "Answer -\n",
    "\n",
    "1st block - print('eggs')\n",
    "\n",
    "2nd block - print('bacon')\n",
    "\n",
    "3rd block - print('ham')\n",
    "            print('spam')\n",
    "            print('spam')"
   ]
  },
  {
   "cell_type": "code",
   "execution_count": null,
   "id": "d3607b04",
   "metadata": {},
   "outputs": [],
   "source": []
  },
  {
   "cell_type": "code",
   "execution_count": null,
   "id": "c10ba518",
   "metadata": {},
   "outputs": [],
   "source": []
  },
  {
   "cell_type": "code",
   "execution_count": null,
   "id": "a96b118b",
   "metadata": {},
   "outputs": [],
   "source": [
    "Q8. Write code that prints Hello if 1 is stored in spam, prints Howdy if 2 is stored in spam, and prints Greetings! if anything\n",
    "else is stored in spam."
   ]
  },
  {
   "cell_type": "code",
   "execution_count": null,
   "id": "5add751d",
   "metadata": {},
   "outputs": [],
   "source": [
    "Answer -\n",
    "\n",
    "if spam == 1:\n",
    "    print('Hello')\n",
    "    \n",
    "elif spam == 2:\n",
    "    print('Howdy')\n",
    "    \n",
    "else:\n",
    "    print('Good Morning.')"
   ]
  },
  {
   "cell_type": "code",
   "execution_count": null,
   "id": "aa0950e9",
   "metadata": {},
   "outputs": [],
   "source": []
  },
  {
   "cell_type": "code",
   "execution_count": null,
   "id": "d10918f2",
   "metadata": {},
   "outputs": [],
   "source": []
  },
  {
   "cell_type": "code",
   "execution_count": null,
   "id": "135ce081",
   "metadata": {},
   "outputs": [],
   "source": [
    "Q9.If your programme is stuck in an endless loop, what keys you’ll press?"
   ]
  },
  {
   "cell_type": "code",
   "execution_count": null,
   "id": "b1f74ca2",
   "metadata": {},
   "outputs": [],
   "source": [
    "Answer -\n",
    "\n",
    "To come out from a infinite loop we use break keyword."
   ]
  },
  {
   "cell_type": "code",
   "execution_count": null,
   "id": "d1b88341",
   "metadata": {},
   "outputs": [],
   "source": []
  },
  {
   "cell_type": "code",
   "execution_count": null,
   "id": "9306f2a2",
   "metadata": {},
   "outputs": [],
   "source": []
  },
  {
   "cell_type": "code",
   "execution_count": null,
   "id": "ff800b52",
   "metadata": {},
   "outputs": [],
   "source": [
    "Q10. How can you tell the difference between break and continue?"
   ]
  },
  {
   "cell_type": "code",
   "execution_count": null,
   "id": "3008ef44",
   "metadata": {},
   "outputs": [],
   "source": [
    "Answer -\n",
    "\n",
    "break is used to stop the iteration of the loops and come out from the loop but\n",
    "continue is used to just skip the specified iteration"
   ]
  },
  {
   "cell_type": "code",
   "execution_count": null,
   "id": "4c53b790",
   "metadata": {},
   "outputs": [],
   "source": []
  },
  {
   "cell_type": "code",
   "execution_count": null,
   "id": "84048e2b",
   "metadata": {},
   "outputs": [],
   "source": []
  },
  {
   "cell_type": "code",
   "execution_count": null,
   "id": "0536770c",
   "metadata": {},
   "outputs": [],
   "source": [
    "Q11. In a for loop, what is the difference between range(10), range(0, 10), and range(0, 10, 1)?"
   ]
  },
  {
   "cell_type": "code",
   "execution_count": null,
   "id": "9902000f",
   "metadata": {},
   "outputs": [],
   "source": [
    "Answer -\n",
    "\n",
    "There is no difference between these three ranges, all are the same."
   ]
  },
  {
   "cell_type": "code",
   "execution_count": null,
   "id": "cb683416",
   "metadata": {},
   "outputs": [],
   "source": []
  },
  {
   "cell_type": "code",
   "execution_count": null,
   "id": "71fbc7fb",
   "metadata": {},
   "outputs": [],
   "source": []
  },
  {
   "cell_type": "code",
   "execution_count": null,
   "id": "1118ecae",
   "metadata": {},
   "outputs": [],
   "source": [
    "Q12. Write a short program that prints the numbers 1 to 10 using a for loop. Then write an equivalent program that prints the\n",
    "numbers 1 to 10 using a while loop."
   ]
  },
  {
   "cell_type": "code",
   "execution_count": null,
   "id": "f56331ab",
   "metadata": {},
   "outputs": [],
   "source": [
    "Answer -\n",
    "\n",
    "for i in range(1, 11):\n",
    "    print(i)\n",
    "    \n",
    "i = 1\n",
    "while i < 11:\n",
    "    print(i)\n",
    "    i += 1"
   ]
  },
  {
   "cell_type": "code",
   "execution_count": null,
   "id": "2c4ac2a2",
   "metadata": {},
   "outputs": [],
   "source": []
  },
  {
   "cell_type": "code",
   "execution_count": null,
   "id": "82d39da1",
   "metadata": {},
   "outputs": [],
   "source": []
  },
  {
   "cell_type": "code",
   "execution_count": null,
   "id": "a8f64bef",
   "metadata": {},
   "outputs": [],
   "source": [
    "Q13. If you had a function named bacon() inside a module named spam, how would you call it after importing spam?"
   ]
  },
  {
   "cell_type": "code",
   "execution_count": null,
   "id": "af2f2f6b",
   "metadata": {},
   "outputs": [],
   "source": [
    "Answer -\n",
    "\n",
    "import spam\n",
    "spam.bacon()"
   ]
  }
 ],
 "metadata": {
  "kernelspec": {
   "display_name": "Python 3 (ipykernel)",
   "language": "python",
   "name": "python3"
  },
  "language_info": {
   "codemirror_mode": {
    "name": "ipython",
    "version": 3
   },
   "file_extension": ".py",
   "mimetype": "text/x-python",
   "name": "python",
   "nbconvert_exporter": "python",
   "pygments_lexer": "ipython3",
   "version": "3.9.13"
  }
 },
 "nbformat": 4,
 "nbformat_minor": 5
}
