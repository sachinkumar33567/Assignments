{
 "cells": [
  {
   "cell_type": "markdown",
   "id": "5957d0e4",
   "metadata": {},
   "source": [
    "Q1. In the below elements which of them are values or an expression? eg:- values can be integer or string and expressions will be mathematical operators.\n",
    "\n",
    "*,  'hello',  -87.8, -,  /,  +,  6 "
   ]
  },
  {
   "cell_type": "markdown",
   "id": "d513158e",
   "metadata": {},
   "source": [
    "Answer -\n",
    "\n",
    "values - 'hello', -87.8, 6\n",
    "\n",
    "expressions - *, -, /, +"
   ]
  },
  {
   "cell_type": "markdown",
   "id": "b501797f",
   "metadata": {},
   "source": [
    "<p style='text-align: center; color: gray'>....................................................</p>"
   ]
  },
  {
   "cell_type": "markdown",
   "id": "698b9aa0",
   "metadata": {},
   "source": [
    "Q2. What is the difference between string and variable?"
   ]
  },
  {
   "cell_type": "markdown",
   "id": "ee963e31",
   "metadata": {},
   "source": [
    "Answer -\n",
    "\n",
    "A string is a type of data in Python that represents a sequence of characters, while a variable is a container that stores a value."
   ]
  },
  {
   "cell_type": "markdown",
   "id": "b9b547f9",
   "metadata": {},
   "source": [
    "<p style='text-align: center; color: gray'>....................................................</p>"
   ]
  },
  {
   "cell_type": "markdown",
   "id": "efaeb595",
   "metadata": {},
   "source": [
    "Q3. Describe three different data types."
   ]
  },
  {
   "cell_type": "markdown",
   "id": "b79653ed",
   "metadata": {},
   "source": [
    "Answer -\n",
    "\n",
    "Integer: whole numbers without any fractional component, such as 5 or -10.\n",
    "\n",
    "String: sequences of characters enclosed in single or double quotes, such as \"Hello, world!\" or \"12345\".\n",
    "\n",
    "Boolean: a special data type with only two possible values, True or False, often used for conditions and comparisons."
   ]
  },
  {
   "cell_type": "markdown",
   "id": "16dc33f0",
   "metadata": {},
   "source": [
    "<p style='text-align: center; color: gray'>....................................................</p>"
   ]
  },
  {
   "cell_type": "markdown",
   "id": "aa42a0e3",
   "metadata": {},
   "source": [
    "Q4. What is an expression made up of? What do all expressions do?"
   ]
  },
  {
   "cell_type": "markdown",
   "id": "b6da0718",
   "metadata": {},
   "source": [
    "Answer -\n",
    "\n",
    "In Python, an expression is made up of one or more values, operators, and/or function calls that are combined to produce a\n",
    "new value. Expressions can be simple or complex, and can involve any of the built-in data types or functions in Python.\n",
    "\n",
    "example -\n",
    "\n",
    "5 + 3\n",
    "\"Hello, \" + \"world!\"\n",
    "len(\"Hello, world!\")\n",
    "2 * (5 + 3)"
   ]
  },
  {
   "cell_type": "markdown",
   "id": "d9a312ca",
   "metadata": {},
   "source": [
    "<p style='text-align: center; color: gray'>....................................................</p>"
   ]
  },
  {
   "cell_type": "markdown",
   "id": "daa6763d",
   "metadata": {},
   "source": [
    "Q5. This assignment statements, like spam = 10. What is the difference between an expression and a statement?"
   ]
  },
  {
   "cell_type": "markdown",
   "id": "d75ef2e2",
   "metadata": {},
   "source": [
    "Answer -\n",
    "\n",
    "In the example of spam = 10, this is a statement that assigns the value 10 to the variable spam. The expression in this\n",
    "statement is simply the value 10.\n",
    "\n",
    "Expressions are evaluated to produce a value, while statements perform some action or operation. Expressions can be\n",
    "part of a statement, but a statement always consists of one or more complete lines of code."
   ]
  },
  {
   "cell_type": "markdown",
   "id": "bd0c46c3",
   "metadata": {},
   "source": [
    "<p style='text-align: center; color: gray'>....................................................</p>"
   ]
  },
  {
   "cell_type": "markdown",
   "id": "5b137f4a",
   "metadata": {},
   "source": [
    "Q6. After running the following code, what does the variable bacon contain?\n",
    "bacon = 22\n",
    "bacon + 1"
   ]
  },
  {
   "cell_type": "markdown",
   "id": "01a36f09",
   "metadata": {},
   "source": [
    "Answer -\n",
    "\n",
    "The expression bacon + 1 evaluates to 23, but the result is not assigned to a variable, so the value of bacon remains unchanged.\n",
    "\n",
    "Therefore, the variable bacon still contains the value 22."
   ]
  },
  {
   "cell_type": "markdown",
   "id": "e9ad4ace",
   "metadata": {},
   "source": [
    "<p style='text-align: center; color: gray'>....................................................</p>"
   ]
  },
  {
   "cell_type": "markdown",
   "id": "5539c0fa",
   "metadata": {},
   "source": [
    "Q7. What should the values of the following two terms be?\n",
    "'spam' + 'spamspam'\n",
    "'spam' * 3"
   ]
  },
  {
   "cell_type": "markdown",
   "id": "c55ba895",
   "metadata": {},
   "source": [
    "Answer -\n",
    "\n",
    "both terms will be 'spamspamspam'"
   ]
  },
  {
   "cell_type": "markdown",
   "id": "dacb1d2c",
   "metadata": {},
   "source": [
    "<p style='text-align: center; color: gray'>....................................................</p>"
   ]
  },
  {
   "cell_type": "markdown",
   "id": "33b23d3c",
   "metadata": {},
   "source": [
    "Q8. Why is eggs a valid variable name while 100 is invalid?"
   ]
  },
  {
   "cell_type": "markdown",
   "id": "3d9be487",
   "metadata": {},
   "source": [
    "Answer -\n",
    "\n",
    "Since \"eggs\" starts with a letter, it is a valid variable name. However, \"100\" starts with a number, which is not allowed as\n",
    "the first character of a variable name, so it is invalid."
   ]
  },
  {
   "cell_type": "markdown",
   "id": "7cafe225",
   "metadata": {},
   "source": [
    "<p style='text-align: center; color: gray'>....................................................</p>"
   ]
  },
  {
   "cell_type": "markdown",
   "id": "0c348fe9",
   "metadata": {},
   "source": [
    "Q9. What three functions can be used to get the integer, floating-point number, or string version of a value?"
   ]
  },
  {
   "cell_type": "markdown",
   "id": "00fd509d",
   "metadata": {},
   "source": [
    "Answer -\n",
    "\n",
    "num_str = \"10\"\n",
    "num_int = int(num_str)\n",
    "print(num_int)  # Output: 10\n",
    "\n",
    "\n",
    "num_str = \"10.5\"\n",
    "num_float = float(num_str)\n",
    "print(num_float)  # Output: 10.5\n",
    "\n",
    "\n",
    "num_int = 10\n",
    "num_str = str(num_int)\n",
    "print(num_str)  # Output: \"10\""
   ]
  },
  {
   "cell_type": "markdown",
   "id": "e181d26b",
   "metadata": {},
   "source": [
    "<p style='text-align: center; color: gray'>....................................................</p>"
   ]
  },
  {
   "cell_type": "markdown",
   "id": "f4574ba9",
   "metadata": {},
   "source": [
    "Q10. Why does this expression cause an error? How can you fix it?\n",
    "'I have eaten ' + 99 + ' burritos.'"
   ]
  },
  {
   "cell_type": "markdown",
   "id": "60c3f6e4",
   "metadata": {},
   "source": [
    "Answer -\n",
    "\n",
    "This expression must give TypeError because python don't allow to add a number with the string but if we write 99 inside the\n",
    "quotes then it's possible to add."
   ]
  }
 ],
 "metadata": {
  "kernelspec": {
   "display_name": "Python 3 (ipykernel)",
   "language": "python",
   "name": "python3"
  },
  "language_info": {
   "codemirror_mode": {
    "name": "ipython",
    "version": 3
   },
   "file_extension": ".py",
   "mimetype": "text/x-python",
   "name": "python",
   "nbconvert_exporter": "python",
   "pygments_lexer": "ipython3",
   "version": "3.9.13"
  }
 },
 "nbformat": 4,
 "nbformat_minor": 5
}
