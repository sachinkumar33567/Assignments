{
 "cells": [
  {
   "cell_type": "markdown",
   "id": "1dccb694",
   "metadata": {},
   "source": [
    "**Question 1:**  Why are functions advantageous to have in your programs?  \n",
    "  \n",
    "**Answer:** Functions reduce the need for duplicate code. This makes programs shorter, easier to read, and easier to update  "
   ]
  },
  {
   "cell_type": "markdown",
   "id": "61aaaa0b",
   "metadata": {},
   "source": [
    "__--------------------------------------------------------------------------------__"
   ]
  },
  {
   "cell_type": "markdown",
   "id": "32b0acee",
   "metadata": {},
   "source": [
    "**Question 2:**  When does the code in a function run: when it's specified or when it's called?  \n",
    "  \n",
    "**Answer :**  The code in a function executes when the function is called, not when the function is defined.  "
   ]
  },
  {
   "cell_type": "markdown",
   "id": "cbfa8ce1",
   "metadata": {},
   "source": [
    "__--------------------------------------------------------------------------------__"
   ]
  },
  {
   "cell_type": "markdown",
   "id": "a7bcdd3d",
   "metadata": {},
   "source": [
    "**Question 3:**  What statement creates a function?  \n",
    "  \n",
    "**Answer :** he def statement defines, i.e. creates a function.  "
   ]
  },
  {
   "cell_type": "markdown",
   "id": "7f0f3e27",
   "metadata": {},
   "source": [
    "__--------------------------------------------------------------------------------__"
   ]
  },
  {
   "cell_type": "markdown",
   "id": "c5a093ed",
   "metadata": {},
   "source": [
    "**Question 4:**  What is the difference between a function and a function call?  \n",
    "  \n",
    "**Answer :** A function consists of the def statement and the code in its def clause. A function call is what moves the program  execution into the function, and the function call evaluates to the function's return value.  "
   ]
  },
  {
   "cell_type": "markdown",
   "id": "d2a33759",
   "metadata": {},
   "source": [
    "__--------------------------------------------------------------------------------__"
   ]
  },
  {
   "cell_type": "markdown",
   "id": "3916cb4f",
   "metadata": {},
   "source": [
    "**Question 5:**  How many global scopes are there in a Python program? How many local scopes?  \n",
    "  \n",
    "**Answer :** There is one global scope, and a local scope is created whenever a function is called .  "
   ]
  },
  {
   "cell_type": "markdown",
   "id": "a6867b29",
   "metadata": {},
   "source": [
    "__--------------------------------------------------------------------------------__"
   ]
  },
  {
   "cell_type": "markdown",
   "id": "4f44e29b",
   "metadata": {},
   "source": [
    "**Question 6:**  What happens to variables in a local scope when the function call returns?  \n",
    "  \n",
    "**Answer :** When a function returns, the local scope is destroyed, and all the variables in it are forgotten.  "
   ]
  },
  {
   "cell_type": "markdown",
   "id": "626166a2",
   "metadata": {},
   "source": [
    "__--------------------------------------------------------------------------------__"
   ]
  },
  {
   "cell_type": "markdown",
   "id": "4ce6ecf5",
   "metadata": {},
   "source": [
    "**Question 7:**   What is the concept of a return value? Is it possible to have a return value in an expression?  \n",
    "  \n",
    "**Answer :** A return value is the value that a function call evaluates to. Like any value, a return value can be used as part   of an expression.  "
   ]
  },
  {
   "cell_type": "markdown",
   "id": "08bd08c5",
   "metadata": {},
   "source": [
    "__--------------------------------------------------------------------------------__"
   ]
  },
  {
   "cell_type": "markdown",
   "id": "e858f0ec",
   "metadata": {},
   "source": [
    "**Question 8:**  If a function does not have a return statement, what is the return value of a call to that function?  \n",
    "  \n",
    "**Answer :** If there is no return statement for a function, its return value is None.  "
   ]
  },
  {
   "cell_type": "markdown",
   "id": "6a96b199",
   "metadata": {},
   "source": [
    "__--------------------------------------------------------------------------------__"
   ]
  },
  {
   "cell_type": "markdown",
   "id": "cc473905",
   "metadata": {},
   "source": [
    "**Question 9:**  How do you make a function variable refer to the global variable?  \n",
    "  \n",
    "**Answer :** A global statement will force a variable in a function to refer to the global variable.  "
   ]
  },
  {
   "cell_type": "markdown",
   "id": "38e35bc3",
   "metadata": {},
   "source": [
    "__--------------------------------------------------------------------------------__"
   ]
  },
  {
   "cell_type": "markdown",
   "id": "27217206",
   "metadata": {},
   "source": [
    "**Question 10:**  What is the data type of None?\n",
    "  \n",
    "**Answer :** The data type of None is NoneType."
   ]
  },
  {
   "cell_type": "markdown",
   "id": "f525d30c",
   "metadata": {},
   "source": [
    "__--------------------------------------------------------------------------------__"
   ]
  },
  {
   "cell_type": "markdown",
   "id": "8d490752",
   "metadata": {},
   "source": [
    "**Question 11:**  What does the sentence import areallyourpetsnamederic do?  \n",
    "  \n",
    "**Answer :** That import statement imports a module named areallyourpetsnamederic.  "
   ]
  },
  {
   "cell_type": "markdown",
   "id": "a895ab67",
   "metadata": {},
   "source": [
    "__--------------------------------------------------------------------------------__"
   ]
  },
  {
   "cell_type": "markdown",
   "id": "8d3dcada",
   "metadata": {},
   "source": [
    "**Question 12:**  If you had a bacon() feature in a spam module, what would you call it after importing spam?    \n",
    "  \n",
    "**Answer :** This function can be called with spam.bacon().  "
   ]
  },
  {
   "cell_type": "markdown",
   "id": "e119f177",
   "metadata": {},
   "source": [
    "__--------------------------------------------------------------------------------__"
   ]
  },
  {
   "cell_type": "markdown",
   "id": "359d9218",
   "metadata": {},
   "source": [
    "**Question 13:** What can you do to save a programme from crashing if it encounters an error?  \n",
    "  \n",
    "**Answer :** Place the line of code that might cause an error in a try clause. "
   ]
  },
  {
   "cell_type": "markdown",
   "id": "ecf57fbd",
   "metadata": {},
   "source": [
    "__--------------------------------------------------------------------------------__"
   ]
  },
  {
   "cell_type": "markdown",
   "id": "ecfb43a4",
   "metadata": {},
   "source": [
    "**Question 14:**  What is the purpose of the try clause? What is the purpose of the except clause?  \n",
    "  \n",
    "**Answer :**  The code that could potentially cause an error goes in the try clause.  \n",
    "-The code that executes if an error happens goes in the except clause.  "
   ]
  },
  {
   "cell_type": "markdown",
   "id": "7f78cbd2",
   "metadata": {},
   "source": [
    "__--------------------------------------------------------------------------------__"
   ]
  }
 ],
 "metadata": {
  "kernelspec": {
   "display_name": "Python 3 (ipykernel)",
   "language": "python",
   "name": "python3"
  },
  "language_info": {
   "codemirror_mode": {
    "name": "ipython",
    "version": 3
   },
   "file_extension": ".py",
   "mimetype": "text/x-python",
   "name": "python",
   "nbconvert_exporter": "python",
   "pygments_lexer": "ipython3",
   "version": "3.9.13"
  }
 },
 "nbformat": 4,
 "nbformat_minor": 5
}
